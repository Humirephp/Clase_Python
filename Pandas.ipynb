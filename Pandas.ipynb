{
  "nbformat": 4,
  "nbformat_minor": 0,
  "metadata": {
    "colab": {
      "provenance": [],
      "authorship_tag": "ABX9TyNybcl2/c8YKfbPX65rjf4P",
      "include_colab_link": true
    },
    "kernelspec": {
      "name": "python3",
      "display_name": "Python 3"
    },
    "language_info": {
      "name": "python"
    }
  },
  "cells": [
    {
      "cell_type": "markdown",
      "metadata": {
        "id": "view-in-github",
        "colab_type": "text"
      },
      "source": [
        "<a href=\"https://colab.research.google.com/github/Humirephp/Clase_Python/blob/main/Pandas.ipynb\" target=\"_parent\"><img src=\"https://colab.research.google.com/assets/colab-badge.svg\" alt=\"Open In Colab\"/></a>"
      ]
    },
    {
      "cell_type": "code",
      "execution_count": null,
      "metadata": {
        "id": "I6FKyJrP5zzY"
      },
      "outputs": [],
      "source": []
    },
    {
      "cell_type": "code",
      "source": [
        "import pandas as pd\n",
        "array_lista = pd.array([1,2,3,4,5])\n",
        "array_lista2 = pd.array([1,2,3,4,5])\n",
        "array_suma = array_lista + array_lista2\n",
        "print(array_suma)"
      ],
      "metadata": {
        "colab": {
          "base_uri": "https://localhost:8080/"
        },
        "id": "bc1oMndF7z-9",
        "outputId": "f4581b95-a32f-4367-b239-66bae02c329b"
      },
      "execution_count": null,
      "outputs": [
        {
          "output_type": "stream",
          "name": "stdout",
          "text": [
            "<IntegerArray>\n",
            "[2, 4, 6, 8, 10]\n",
            "Length: 5, dtype: Int64\n"
          ]
        }
      ]
    },
    {
      "cell_type": "code",
      "source": [
        "import pandas as pd\n",
        "#crear mi dataframe\n",
        "data={'Producto':['Manzana','Durazno','Tomate','Pera'],\n",
        "      'Precio':[5.0,18.5,1.3,6.5]\n",
        "      }\n",
        "df=pd.DataFrame(data)\n",
        "print(df)\n",
        "suma_precio=df['Precio'].sum()\n",
        "print(\"La suma de los precios es :\" ,suma_precio)"
      ],
      "metadata": {
        "colab": {
          "base_uri": "https://localhost:8080/"
        },
        "id": "CV7PrBev9iq9",
        "outputId": "f320b84c-005c-4898-bb21-2400d2bbb855"
      },
      "execution_count": null,
      "outputs": [
        {
          "output_type": "stream",
          "name": "stdout",
          "text": [
            "  Producto  Precio\n",
            "0  Manzana     5.0\n",
            "1  Durazno    18.5\n",
            "2   Tomate     1.3\n",
            "3     Pera     6.5\n",
            "La suma de los precios es : 31.3\n"
          ]
        }
      ]
    },
    {
      "cell_type": "code",
      "source": [
        "import pandas as pd\n",
        "churrumino={'Nombre':['German','Lucas','Kevin','Elias'],\n",
        "            'Edad':[37,28,20,5],\n",
        "            'Ciudad':['Trujillo','Puno','Tacna','Moquegua']\n",
        "            }\n",
        "df=pd.DataFrame(churrumino)\n",
        "print(churrumino)\n",
        "print(df)\n",
        "#La data frame debe de tener los misma cantidad no debe haber espacios vacios\n"
      ],
      "metadata": {
        "colab": {
          "base_uri": "https://localhost:8080/"
        },
        "id": "tvqhtNT_CoPd",
        "outputId": "0e22f818-76d1-4b60-e64f-559377d87110"
      },
      "execution_count": null,
      "outputs": [
        {
          "output_type": "stream",
          "name": "stdout",
          "text": [
            "{'Nombre': ['German', 'Lucas', 'Kevin', 'Elias'], 'Edad': [37, 28, 20, 5], 'Ciudad': ['Trujillo', 'Puno', 'Tacna', 'Moquegua']}\n",
            "   Nombre  Edad    Ciudad\n",
            "0  German    37  Trujillo\n",
            "1   Lucas    28      Puno\n",
            "2   Kevin    20     Tacna\n",
            "3   Elias     5  Moquegua\n"
          ]
        }
      ]
    },
    {
      "cell_type": "markdown",
      "source": [
        "EJERCICIO 3"
      ],
      "metadata": {
        "id": "4t19VgoEFYmz"
      }
    },
    {
      "cell_type": "code",
      "source": [
        "import pandas as pd\n",
        "import numpy as np\n",
        "\n",
        "#Crear una dataframe con datos aleatorios\n",
        "np.random.seed(42)\n",
        "df=pd.DataFrame({\n",
        "    'Producto':['Proucto 1','Producto 2','Producto 3','Producto 4','Producto 5'],\n",
        "    'Precio':np.random.uniform(10,100,size=5), #Te muestra numeros aleatorios en decimales\n",
        "    'Cantidad':np.random.randint(1,50,size=5)#Te muestra numeros aleatarios enteros\n",
        "})\n",
        "print(df)"
      ],
      "metadata": {
        "colab": {
          "base_uri": "https://localhost:8080/"
        },
        "id": "r7VkOzuJFX-V",
        "outputId": "fc68995e-aa1f-4ecc-d22d-311b72d050ec"
      },
      "execution_count": null,
      "outputs": [
        {
          "output_type": "stream",
          "name": "stdout",
          "text": [
            "     Producto     Precio  Cantidad\n",
            "0   Proucto 1  43.708611        19\n",
            "1  Producto 2  95.564288        23\n",
            "2  Producto 3  75.879455        11\n",
            "3  Producto 4  63.879264        11\n",
            "4  Producto 5  24.041678        24\n"
          ]
        }
      ]
    },
    {
      "cell_type": "markdown",
      "source": [
        "EJERCICIO 4"
      ],
      "metadata": {
        "id": "yf0LSrsiMUEs"
      }
    },
    {
      "cell_type": "code",
      "source": [
        "#CREAR UNA DATA FRAME CON NOMBRE, EDAD, CIUDAD, QUE SEAN SOLO 5 ELEMENTOS\n",
        "#FILTRAR PERSONAS MAYORES DE 30 AÑOS QUE VIVEN EN MOQUEGUA\n",
        "\n",
        "import pandas as pd\n",
        "import numpy as np\n",
        "#Crear dataframe\n",
        "#np.random.seed(42)\n",
        "df=pd.DataFrame({\n",
        "    'Nombre':['Jose','Ana','German','Llon','Martha'],\n",
        "    'Edad':np.random.randint(18,50,size=5),\n",
        "    'Ciudad':['Moquegua','Tacna','Lima','Moquegua','Arequipa']\n",
        "})\n",
        "#Crear el filtro >30 y Ciudad='Moquegua'\n",
        "filtro=(df['Ciudad']=='Moquegua')& (df['Edad']>30)\n",
        "resultado=df[filtro]\n",
        "print(\"Papu este es:\")\n",
        "print(resultado)\n"
      ],
      "metadata": {
        "colab": {
          "base_uri": "https://localhost:8080/"
        },
        "id": "hZARbJoyMRjl",
        "outputId": "d21f8629-952e-4696-9cf9-59ba7da74eb0"
      },
      "execution_count": null,
      "outputs": [
        {
          "output_type": "stream",
          "name": "stdout",
          "text": [
            "Papu este es:\n",
            "  Nombre  Edad    Ciudad\n",
            "0   Jose    39  Moquegua\n",
            "3   Llon    41  Moquegua\n"
          ]
        }
      ]
    }
  ]
}