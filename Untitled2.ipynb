{
  "nbformat": 4,
  "nbformat_minor": 0,
  "metadata": {
    "colab": {
      "provenance": [],
      "authorship_tag": "ABX9TyPap2PMwTwDBWM8pY2zZcUW",
      "include_colab_link": true
    },
    "kernelspec": {
      "name": "python3",
      "display_name": "Python 3"
    },
    "language_info": {
      "name": "python"
    }
  },
  "cells": [
    {
      "cell_type": "markdown",
      "metadata": {
        "id": "view-in-github",
        "colab_type": "text"
      },
      "source": [
        "<a href=\"https://colab.research.google.com/github/Humirephp/Clase_Python/blob/main/Untitled2.ipynb\" target=\"_parent\"><img src=\"https://colab.research.google.com/assets/colab-badge.svg\" alt=\"Open In Colab\"/></a>"
      ]
    },
    {
      "cell_type": "code",
      "execution_count": null,
      "metadata": {
        "id": "KPZ3hunA6SBf"
      },
      "outputs": [],
      "source": []
    },
    {
      "cell_type": "code",
      "source": [
        "import pandas as pd\n",
        "#crear dataframe\n",
        "data={\n",
        "    'Producto':['Manzana','Cebolla','Platano','Zanahoria','Durazmo'],\n",
        "    'Categoria':['Fruta','Verdura','Fruta','Verdura','Fruta'],\n",
        "    'Precio':[5.5,1.2,2,0.8,12],\n",
        "    'Stock':[100,150,80,50,30]\n",
        "}\n",
        "df=pd.DataFrame(data)\n",
        "#filtrar los productos con precio mayor a 5 soles\n",
        "filtro=df[df['Precio']>5]\n",
        "#Esto es una condicion\n",
        "print(filtro)\n",
        "#Filtrar y Decirme cuales son verduras y su stock sea mayor a 100\n",
        "filtro2=df[(df['Categoria']=='Verdura')&(df['Stock']>100)]\n",
        "print(filtro2)"
      ],
      "metadata": {
        "colab": {
          "base_uri": "https://localhost:8080/"
        },
        "id": "oVb_HWLa6TDr",
        "outputId": "d6e32332-a357-49d3-be0f-709132344a43"
      },
      "execution_count": 6,
      "outputs": [
        {
          "output_type": "stream",
          "name": "stdout",
          "text": [
            "  Producto Categoria  Precio  Stock\n",
            "0  Manzana     Fruta     5.5    100\n",
            "4  Durazmo     Fruta    12.0     30\n",
            "  Producto Categoria  Precio  Stock\n",
            "1  Cebolla   Verdura     1.2    150\n"
          ]
        }
      ]
    },
    {
      "cell_type": "code",
      "source": [
        "#Crearemos un ejercicio donde podamos analizar un array numpy y\n",
        "#Daremos algunas respuestas estadisticas\n",
        "\n",
        "import numpy as np\n",
        "arr = np.array([10,20,30,40,50])\n",
        "media = np.mean(arr)\n",
        "mediana = np.median(arr)\n",
        "desviacion = np.std(arr)\n",
        "print(media)\n",
        "print(mediana)\n",
        "print(desviacion)"
      ],
      "metadata": {
        "colab": {
          "base_uri": "https://localhost:8080/"
        },
        "id": "4rkEKn9S-59c",
        "outputId": "7a146dc1-89c7-4d82-c98e-0ac95cf887ca"
      },
      "execution_count": 7,
      "outputs": [
        {
          "output_type": "stream",
          "name": "stdout",
          "text": [
            "30.0\n",
            "30.0\n",
            "14.142135623730951\n"
          ]
        }
      ]
    },
    {
      "cell_type": "code",
      "source": [
        "#COMBINAR Y AGRUPAR DATOS EN PANDA\n",
        "\n",
        "import pandas as pd\n",
        "df1=pd.DataFrame({\n",
        "    'Producto':['Manzana','Platano','Fresa'],\n",
        "    'Enero':[30,45,20],\n",
        "    'Febrero':[35,50,25]\n",
        "})\n",
        "df2=pd.DataFrame({\n",
        "    'Producto':['Manzana','Platano','Fresa'],\n",
        "    'Marzo':[25,55,30],\n",
        "    'Abril':[40,60,35]\n",
        "})\n",
        "#Combinamos la DataFrame\n",
        "juntitos=pd.merge(df1,df2,on='Producto')\n",
        "#print('DataFrame 1: \\n',df1)\n",
        "#print('DataFrame 2: \\n',df2)\n",
        "#print('DataFrame 1 y 2 Juntitos: \\n',juntitos)\n",
        "#Ejercicio con axis = 1\n",
        "#Calcular las ventas totales en los meses Enero hasta Abril\n",
        "\n",
        "#Suma por columna -> filas\n",
        "juntitos['Total']=juntitos[['Enero','Febrero','Marzo','Abril']].sum(axis = 1)\n",
        "print(juntitos)\n",
        "#Suma por filas -> Columnas\n",
        "juntitos2=juntitos[['Enero','Febrero','Marzo','Abril']].sum(axis = 0)\n",
        "print(juntitos2)"
      ],
      "metadata": {
        "colab": {
          "base_uri": "https://localhost:8080/"
        },
        "id": "Ty9ukqLCAADt",
        "outputId": "f5bef933-17cb-4e4f-a244-1b957ec8034b"
      },
      "execution_count": 4,
      "outputs": [
        {
          "output_type": "stream",
          "name": "stdout",
          "text": [
            "  Producto  Enero  Febrero  Marzo  Abril  Total\n",
            "0  Manzana     30       35     25     40    130\n",
            "1  Platano     45       50     55     60    210\n",
            "2    Fresa     20       25     30     35    110\n",
            "Enero       95\n",
            "Febrero    110\n",
            "Marzo      110\n",
            "Abril      135\n",
            "dtype: int64\n"
          ]
        }
      ]
    }
  ]
}