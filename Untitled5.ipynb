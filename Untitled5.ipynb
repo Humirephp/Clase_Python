{
  "nbformat": 4,
  "nbformat_minor": 0,
  "metadata": {
    "colab": {
      "provenance": [],
      "authorship_tag": "ABX9TyOUsPbUg5n1lAgjL5WF+n0L",
      "include_colab_link": true
    },
    "kernelspec": {
      "name": "python3",
      "display_name": "Python 3"
    },
    "language_info": {
      "name": "python"
    }
  },
  "cells": [
    {
      "cell_type": "markdown",
      "metadata": {
        "id": "view-in-github",
        "colab_type": "text"
      },
      "source": [
        "<a href=\"https://colab.research.google.com/github/Humirephp/Clase_Python/blob/main/Untitled5.ipynb\" target=\"_parent\"><img src=\"https://colab.research.google.com/assets/colab-badge.svg\" alt=\"Open In Colab\"/></a>"
      ]
    },
    {
      "cell_type": "code",
      "execution_count": 7,
      "metadata": {
        "colab": {
          "base_uri": "https://localhost:8080/"
        },
        "id": "aAz8wQu43uoz",
        "outputId": "aa1d1c25-66e5-4731-927a-5d23c27aca79"
      },
      "outputs": [
        {
          "output_type": "stream",
          "name": "stdout",
          "text": [
            "[1300 2200]\n",
            "[2500 4300]\n"
          ]
        }
      ],
      "source": [
        "#Recordar un poco de matrices y vectores\n",
        "import numpy as np\n",
        "#Crear un vector\n",
        "v1 = np.array([10,20,30,40,50])\n",
        "#print(v1)\n",
        "#Crear una matriz\n",
        "m1 = np.array([[15,20,25],[30,35,40]])\n",
        "#print(m1)\n",
        "#Operacion Basica\n",
        "# Al vector sumarle mas 3\n",
        "sum_vec = v1 + 3\n",
        "#print(sum_vec)\n",
        "#Producto de matriz por vector\n",
        "prod_vec_mat = np.dot(m1,v1[:3])\n",
        "print(prod_vec_mat)\n",
        "prod_vec_mat = np.dot(m1,v1[2:5])\n",
        "print(prod_vec_mat)"
      ]
    },
    {
      "cell_type": "markdown",
      "source": [
        "Crear un vector con 10 elementos con valores que inicia en 15 y rellena de forma consecutiva hasta tener 10 elementos, crear una matriz 3x3 es decir 9 elementos desde el uno hasta el 9 luego realiza la multiplicacion de los ultimos elementos y otra multiplicacion de la posicion 4 del vecto al 6 por toda la matriz"
      ],
      "metadata": {
        "id": "p7J6t02y-PuK"
      }
    },
    {
      "cell_type": "code",
      "source": [
        "import numpy as np\n",
        "v1 = np.array([15,20,30,40,50,60,70,25,37,90])\n",
        "#print(v1)\n",
        "m1 = np.array([[14,20,30],[24,45,30],[10,47,80]])\n",
        "#rint(m1)\n",
        "producto_vec_mat = np.dot(m1,v1[7:10])\n",
        "print(producto_vec_mat)\n",
        "producto_vec_mat = np.dot(m1,v1[3:6])\n",
        "print(producto_vec_mat)"
      ],
      "metadata": {
        "colab": {
          "base_uri": "https://localhost:8080/"
        },
        "id": "J7xN4Es_-07L",
        "outputId": "3e1624d8-88b1-4af8-e6b0-7ccb7b9ae095"
      },
      "execution_count": 15,
      "outputs": [
        {
          "output_type": "stream",
          "name": "stdout",
          "text": [
            "[3790 4965 9189]\n",
            "[3360 5010 7550]\n"
          ]
        }
      ]
    },
    {
      "cell_type": "code",
      "source": [
        "#Librerias de pandas y numpy\n",
        "#PANDAS: LIBRERIA PARA MANIPULAR Y ANALIZAR DATOS (DE FORMA FLEXIBLE )\n",
        "#NUMPY : LIBRERIA DESARROLLADA PARA CALCULOS CIENTIFICOS ALGEBRAICOS\n",
        "import pandas as pd\n",
        "import numpy as np\n",
        "#Crear DataFrame\n",
        "data ={'C1':[30,20,10],'C2':[15.6,34.8,69.2]}\n",
        "df = pd.DataFrame(data) #Ya tengo mi DataFrame\n",
        "#print(df)\n",
        "#Operacion algebraica con logaritmos\n",
        "df['Columna3']=np.log(df['C1'])\n",
        "print(df)"
      ],
      "metadata": {
        "colab": {
          "base_uri": "https://localhost:8080/"
        },
        "id": "Zl85XrYBCp7o",
        "outputId": "170efb59-29da-4a5f-daaf-3c16efe6debd"
      },
      "execution_count": 4,
      "outputs": [
        {
          "output_type": "stream",
          "name": "stdout",
          "text": [
            "   C1    C2  Columna3\n",
            "0  30  15.6  3.401197\n",
            "1  20  34.8  2.995732\n",
            "2  10  69.2  2.302585\n"
          ]
        }
      ]
    },
    {
      "cell_type": "markdown",
      "source": [
        "Ejercicio 02 : crea una DataFrame con 5 filas y 3 columnas con elementos random añadir una columna que calcule la suma de las 2 primeras columnas"
      ],
      "metadata": {
        "id": "Z-uQRZsOE5W6"
      }
    },
    {
      "cell_type": "code",
      "source": [
        "import pandas as pd\n",
        "import numpy as np\n",
        "\n",
        "df1 = pd.DataFrame(np.random.randint(0,20, size=(5,3)), columns=['col1','col2','col3'])\n",
        "print(df1)\n",
        "df1['Resultado']=df1['col1']+df1['col2']\n",
        "print(df1)"
      ],
      "metadata": {
        "colab": {
          "base_uri": "https://localhost:8080/"
        },
        "id": "3zVjKuChFS7D",
        "outputId": "af8e364d-b71d-421f-ee02-2b5cec11bbc1"
      },
      "execution_count": 18,
      "outputs": [
        {
          "output_type": "stream",
          "name": "stdout",
          "text": [
            "   col1  col2  col3\n",
            "0    11    17    14\n",
            "1    18    11    15\n",
            "2     1     9     5\n",
            "3     0    11     9\n",
            "4    17    13     1\n",
            "   col1  col2  col3  Resultado\n",
            "0    11    17    14         28\n",
            "1    18    11    15         29\n",
            "2     1     9     5         10\n",
            "3     0    11     9         11\n",
            "4    17    13     1         30\n"
          ]
        }
      ]
    },
    {
      "cell_type": "markdown",
      "source": [
        "manipular y analizar los datos"
      ],
      "metadata": {
        "id": "Dg8fkfRCJPpz"
      }
    },
    {
      "cell_type": "code",
      "source": [
        "import pandas as pd\n",
        "data={'Nombre':['Luis','Jose','Anastacio'],'Edad':[60,45,20]}\n",
        "df=pd.DataFrame(data)\n",
        "df_f = df[df['Edad']>30]\n",
        "print(df_f)"
      ],
      "metadata": {
        "colab": {
          "base_uri": "https://localhost:8080/"
        },
        "id": "WXUsmwxkJZsh",
        "outputId": "9ed64705-70f4-44b4-9303-a8dabf9e9858"
      },
      "execution_count": 19,
      "outputs": [
        {
          "output_type": "stream",
          "name": "stdout",
          "text": [
            "  Nombre  Edad\n",
            "0   Luis    60\n",
            "1   Jose    45\n"
          ]
        }
      ]
    },
    {
      "cell_type": "markdown",
      "source": [
        "Ejercicio 3 crear una dataframe con informacion de estudiantes de senati , donde tendras nombre edad , carrera , nota final , deberas crear minimo 8 registros y maximo 20 filtrar la mayor nota ojo si existen varias notas altas se deben mostrar todas  "
      ],
      "metadata": {
        "id": "0XfEwvuYKTJD"
      }
    },
    {
      "cell_type": "code",
      "source": [
        "import pandas as pd\n",
        "data ={'Nombre':['Juan','Elias','Marcos','Mateo','Mathias','Dicarpio','Luis','Leo'],\n",
        "      'Edad':[20,11,18,20,20,14,16,20],\n",
        "      'Carrera':['Ing,soft','Diseño grafico','Electricista','ciberseguridad','soporte Ti','Textil','administracion','Mecanico'],\n",
        "      'NotaFinal':[20,20,20,12,16,18,19,20]\n",
        "}\n",
        "df=pd.DataFrame(data)\n",
        "df_f = df[df['NotaFinal']>=20]\n",
        "print(df_f)\n"
      ],
      "metadata": {
        "colab": {
          "base_uri": "https://localhost:8080/"
        },
        "id": "kmV3qKwCKuaU",
        "outputId": "e8a4f5f9-6996-4073-fcfc-d779428b82c8"
      },
      "execution_count": 11,
      "outputs": [
        {
          "output_type": "stream",
          "name": "stdout",
          "text": [
            "   Nombre  Edad         Carrera  NotaFinal\n",
            "0    Juan    20        Ing,soft         20\n",
            "1   Elias    11  Diseño grafico         20\n",
            "2  Marcos    18    Electricista         20\n",
            "7     Leo    20        Mecanico         20\n"
          ]
        }
      ]
    },
    {
      "cell_type": "code",
      "source": [
        "import pandas as pd\n",
        "import numpy as np\n",
        "data ={'Nombre':['Juan','Elias','Marcos','Mateo','Mathias','Dicarpio','Luis','Leo'],\n",
        "      'Edad':[20,11,18,20,20,14,16,20],\n",
        "      'Carrera':['Ing.soft','Diseño grafico','Electricista','ciberseguridad','soporte Ti','Textil','administracion','Mecanico'],\n",
        "}\n",
        "df=pd.DataFrame(data)\n",
        "#Guardar como archivo .csv\n",
        "df.to_csv('estudiante_senati.csv',index=False)\n",
        "#LEER ARCHIVO CSV CON PANDAS\n",
        "df_leido = pd.read_csv('estudiante_senati.csv')\n",
        "print(df_leido)\n",
        "#LEER ARCHIVO CON NUMPY\n",
        "df_leido2 = np.genfromtxt('estudiante_senati.csv',delimiter=',',dtype=None,encoding='utf-8',names=True)\n",
        "print(df_leido2)"
      ],
      "metadata": {
        "colab": {
          "base_uri": "https://localhost:8080/"
        },
        "id": "ef3zZM1rdDQ0",
        "outputId": "fef2e43c-9dae-4294-b7c9-76a4bffe7145"
      },
      "execution_count": 1,
      "outputs": [
        {
          "output_type": "stream",
          "name": "stdout",
          "text": [
            "     Nombre  Edad         Carrera\n",
            "0      Juan    20        Ing.soft\n",
            "1     Elias    11  Diseño grafico\n",
            "2    Marcos    18    Electricista\n",
            "3     Mateo    20  ciberseguridad\n",
            "4   Mathias    20      soporte Ti\n",
            "5  Dicarpio    14          Textil\n",
            "6      Luis    16  administracion\n",
            "7       Leo    20        Mecanico\n",
            "[('Juan', 20, 'Ing.soft') ('Elias', 11, 'Diseño grafico')\n",
            " ('Marcos', 18, 'Electricista') ('Mateo', 20, 'ciberseguridad')\n",
            " ('Mathias', 20, 'soporte Ti') ('Dicarpio', 14, 'Textil')\n",
            " ('Luis', 16, 'administracion') ('Leo', 20, 'Mecanico')]\n"
          ]
        }
      ]
    },
    {
      "cell_type": "markdown",
      "source": [
        "Ejercicio 4 : Crear un archivo csv con los siguientes datos producto ,cantidad , precio _unitario, precio_docena, velor_venta, luego mostrarlo con pandas y numpy"
      ],
      "metadata": {
        "id": "DAn6TnQzg9UG"
      }
    },
    {
      "cell_type": "code",
      "source": [
        "import pandas as pd\n",
        "import numpy as np\n",
        "data = {'Producto':['Arroz','Azucar','Leche','Cereales'],\n",
        "      'Cantidad':[2,4,5,10],\n",
        "      'Preio_unitario':[2.50,3.00,5.00,5.60],\n",
        "      'Preio_docena':[6.50,1.00,9.00,10.60],\n",
        "      'valor_venta':[2.30,3.80,5.60,5.40],\n",
        "}\n",
        "df=pd.DataFrame(data)\n",
        "df.to_csv('Productos.csv',index=False)\n",
        "df_leido = pd.read_csv('Productos.csv')\n",
        "print(df_leido)\n",
        "df_leido2 = np.genfromtxt('Productos.csv',delimiter=',',dtype=None,encoding='utf-8',names=True)\n",
        "print(df_leido2)\n"
      ],
      "metadata": {
        "colab": {
          "base_uri": "https://localhost:8080/"
        },
        "id": "LRpAu54oh7ct",
        "outputId": "59770ea9-9654-4a09-cc9d-d80a8094dd90"
      },
      "execution_count": 22,
      "outputs": [
        {
          "output_type": "stream",
          "name": "stdout",
          "text": [
            "   Producto  Cantidad  Preio_unitario  Preio_docena  valor_venta\n",
            "0     Arroz         2             2.5           6.5          2.3\n",
            "1    Azucar         4             3.0           1.0          3.8\n",
            "2     Leche         5             5.0           9.0          5.6\n",
            "3  Cereales        10             5.6          10.6          5.4\n",
            "[('Arroz',  2, 2.5,  6.5, 2.3) ('Azucar',  4, 3. ,  1. , 3.8)\n",
            " ('Leche',  5, 5. ,  9. , 5.6) ('Cereales', 10, 5.6, 10.6, 5.4)]\n"
          ]
        }
      ]
    },
    {
      "cell_type": "code",
      "source": [
        "#MACHINE LEARNING\n",
        "from sklearn.datasets import load_iris\n",
        "#Dividir datos para entrenamiento y pruebas\n",
        "from sklearn.model_selection import train_test_split\n",
        "#regrecion logica para la clasificacion de las flores\n",
        "from sklearn.linear_model import LogisticRegression\n",
        "#Calcular la precision del modelo a traves de la prediccion\n",
        "# y los valores reales\n",
        "from sklearn.metrics import accuracy_score\n",
        "\n",
        "#Cargar Datos\n",
        "data = load_iris() # Carga de datos de load_iris\n",
        "print(data)\n",
        "X = data.data #Caracteristicas\n",
        "y = data.target #Etiquetas\n",
        "\n",
        "#Division de los conjuntos de datos\n",
        "X_train,X_test,y_train,y_test = train_test_split(X,y,test_size=0.2,random_state=42)\n",
        "\n",
        "#crear y entrenar el modelo\n",
        "model = LogisticRegression(max_iter=200)\n",
        "model.fit(X_train,y_train)\n",
        "\n",
        "#Realizar predicciones\n",
        "y_pred = model.predict(X_test)\n",
        "\n",
        "#Evaluar el modelo\n",
        "accuracy = accuracy_score(y_test,y_pred)\n",
        "\n",
        "#visualizar los resultados\n",
        "print(\"Accuaracy:\",accuracy)\n"
      ],
      "metadata": {
        "colab": {
          "base_uri": "https://localhost:8080/"
        },
        "id": "fYasr9AYm4S3",
        "outputId": "f28c8e25-19e3-4be3-953a-890b6bd3beee"
      },
      "execution_count": 4,
      "outputs": [
        {
          "output_type": "stream",
          "name": "stdout",
          "text": [
            "{'data': array([[5.1, 3.5, 1.4, 0.2],\n",
            "       [4.9, 3. , 1.4, 0.2],\n",
            "       [4.7, 3.2, 1.3, 0.2],\n",
            "       [4.6, 3.1, 1.5, 0.2],\n",
            "       [5. , 3.6, 1.4, 0.2],\n",
            "       [5.4, 3.9, 1.7, 0.4],\n",
            "       [4.6, 3.4, 1.4, 0.3],\n",
            "       [5. , 3.4, 1.5, 0.2],\n",
            "       [4.4, 2.9, 1.4, 0.2],\n",
            "       [4.9, 3.1, 1.5, 0.1],\n",
            "       [5.4, 3.7, 1.5, 0.2],\n",
            "       [4.8, 3.4, 1.6, 0.2],\n",
            "       [4.8, 3. , 1.4, 0.1],\n",
            "       [4.3, 3. , 1.1, 0.1],\n",
            "       [5.8, 4. , 1.2, 0.2],\n",
            "       [5.7, 4.4, 1.5, 0.4],\n",
            "       [5.4, 3.9, 1.3, 0.4],\n",
            "       [5.1, 3.5, 1.4, 0.3],\n",
            "       [5.7, 3.8, 1.7, 0.3],\n",
            "       [5.1, 3.8, 1.5, 0.3],\n",
            "       [5.4, 3.4, 1.7, 0.2],\n",
            "       [5.1, 3.7, 1.5, 0.4],\n",
            "       [4.6, 3.6, 1. , 0.2],\n",
            "       [5.1, 3.3, 1.7, 0.5],\n",
            "       [4.8, 3.4, 1.9, 0.2],\n",
            "       [5. , 3. , 1.6, 0.2],\n",
            "       [5. , 3.4, 1.6, 0.4],\n",
            "       [5.2, 3.5, 1.5, 0.2],\n",
            "       [5.2, 3.4, 1.4, 0.2],\n",
            "       [4.7, 3.2, 1.6, 0.2],\n",
            "       [4.8, 3.1, 1.6, 0.2],\n",
            "       [5.4, 3.4, 1.5, 0.4],\n",
            "       [5.2, 4.1, 1.5, 0.1],\n",
            "       [5.5, 4.2, 1.4, 0.2],\n",
            "       [4.9, 3.1, 1.5, 0.2],\n",
            "       [5. , 3.2, 1.2, 0.2],\n",
            "       [5.5, 3.5, 1.3, 0.2],\n",
            "       [4.9, 3.6, 1.4, 0.1],\n",
            "       [4.4, 3. , 1.3, 0.2],\n",
            "       [5.1, 3.4, 1.5, 0.2],\n",
            "       [5. , 3.5, 1.3, 0.3],\n",
            "       [4.5, 2.3, 1.3, 0.3],\n",
            "       [4.4, 3.2, 1.3, 0.2],\n",
            "       [5. , 3.5, 1.6, 0.6],\n",
            "       [5.1, 3.8, 1.9, 0.4],\n",
            "       [4.8, 3. , 1.4, 0.3],\n",
            "       [5.1, 3.8, 1.6, 0.2],\n",
            "       [4.6, 3.2, 1.4, 0.2],\n",
            "       [5.3, 3.7, 1.5, 0.2],\n",
            "       [5. , 3.3, 1.4, 0.2],\n",
            "       [7. , 3.2, 4.7, 1.4],\n",
            "       [6.4, 3.2, 4.5, 1.5],\n",
            "       [6.9, 3.1, 4.9, 1.5],\n",
            "       [5.5, 2.3, 4. , 1.3],\n",
            "       [6.5, 2.8, 4.6, 1.5],\n",
            "       [5.7, 2.8, 4.5, 1.3],\n",
            "       [6.3, 3.3, 4.7, 1.6],\n",
            "       [4.9, 2.4, 3.3, 1. ],\n",
            "       [6.6, 2.9, 4.6, 1.3],\n",
            "       [5.2, 2.7, 3.9, 1.4],\n",
            "       [5. , 2. , 3.5, 1. ],\n",
            "       [5.9, 3. , 4.2, 1.5],\n",
            "       [6. , 2.2, 4. , 1. ],\n",
            "       [6.1, 2.9, 4.7, 1.4],\n",
            "       [5.6, 2.9, 3.6, 1.3],\n",
            "       [6.7, 3.1, 4.4, 1.4],\n",
            "       [5.6, 3. , 4.5, 1.5],\n",
            "       [5.8, 2.7, 4.1, 1. ],\n",
            "       [6.2, 2.2, 4.5, 1.5],\n",
            "       [5.6, 2.5, 3.9, 1.1],\n",
            "       [5.9, 3.2, 4.8, 1.8],\n",
            "       [6.1, 2.8, 4. , 1.3],\n",
            "       [6.3, 2.5, 4.9, 1.5],\n",
            "       [6.1, 2.8, 4.7, 1.2],\n",
            "       [6.4, 2.9, 4.3, 1.3],\n",
            "       [6.6, 3. , 4.4, 1.4],\n",
            "       [6.8, 2.8, 4.8, 1.4],\n",
            "       [6.7, 3. , 5. , 1.7],\n",
            "       [6. , 2.9, 4.5, 1.5],\n",
            "       [5.7, 2.6, 3.5, 1. ],\n",
            "       [5.5, 2.4, 3.8, 1.1],\n",
            "       [5.5, 2.4, 3.7, 1. ],\n",
            "       [5.8, 2.7, 3.9, 1.2],\n",
            "       [6. , 2.7, 5.1, 1.6],\n",
            "       [5.4, 3. , 4.5, 1.5],\n",
            "       [6. , 3.4, 4.5, 1.6],\n",
            "       [6.7, 3.1, 4.7, 1.5],\n",
            "       [6.3, 2.3, 4.4, 1.3],\n",
            "       [5.6, 3. , 4.1, 1.3],\n",
            "       [5.5, 2.5, 4. , 1.3],\n",
            "       [5.5, 2.6, 4.4, 1.2],\n",
            "       [6.1, 3. , 4.6, 1.4],\n",
            "       [5.8, 2.6, 4. , 1.2],\n",
            "       [5. , 2.3, 3.3, 1. ],\n",
            "       [5.6, 2.7, 4.2, 1.3],\n",
            "       [5.7, 3. , 4.2, 1.2],\n",
            "       [5.7, 2.9, 4.2, 1.3],\n",
            "       [6.2, 2.9, 4.3, 1.3],\n",
            "       [5.1, 2.5, 3. , 1.1],\n",
            "       [5.7, 2.8, 4.1, 1.3],\n",
            "       [6.3, 3.3, 6. , 2.5],\n",
            "       [5.8, 2.7, 5.1, 1.9],\n",
            "       [7.1, 3. , 5.9, 2.1],\n",
            "       [6.3, 2.9, 5.6, 1.8],\n",
            "       [6.5, 3. , 5.8, 2.2],\n",
            "       [7.6, 3. , 6.6, 2.1],\n",
            "       [4.9, 2.5, 4.5, 1.7],\n",
            "       [7.3, 2.9, 6.3, 1.8],\n",
            "       [6.7, 2.5, 5.8, 1.8],\n",
            "       [7.2, 3.6, 6.1, 2.5],\n",
            "       [6.5, 3.2, 5.1, 2. ],\n",
            "       [6.4, 2.7, 5.3, 1.9],\n",
            "       [6.8, 3. , 5.5, 2.1],\n",
            "       [5.7, 2.5, 5. , 2. ],\n",
            "       [5.8, 2.8, 5.1, 2.4],\n",
            "       [6.4, 3.2, 5.3, 2.3],\n",
            "       [6.5, 3. , 5.5, 1.8],\n",
            "       [7.7, 3.8, 6.7, 2.2],\n",
            "       [7.7, 2.6, 6.9, 2.3],\n",
            "       [6. , 2.2, 5. , 1.5],\n",
            "       [6.9, 3.2, 5.7, 2.3],\n",
            "       [5.6, 2.8, 4.9, 2. ],\n",
            "       [7.7, 2.8, 6.7, 2. ],\n",
            "       [6.3, 2.7, 4.9, 1.8],\n",
            "       [6.7, 3.3, 5.7, 2.1],\n",
            "       [7.2, 3.2, 6. , 1.8],\n",
            "       [6.2, 2.8, 4.8, 1.8],\n",
            "       [6.1, 3. , 4.9, 1.8],\n",
            "       [6.4, 2.8, 5.6, 2.1],\n",
            "       [7.2, 3. , 5.8, 1.6],\n",
            "       [7.4, 2.8, 6.1, 1.9],\n",
            "       [7.9, 3.8, 6.4, 2. ],\n",
            "       [6.4, 2.8, 5.6, 2.2],\n",
            "       [6.3, 2.8, 5.1, 1.5],\n",
            "       [6.1, 2.6, 5.6, 1.4],\n",
            "       [7.7, 3. , 6.1, 2.3],\n",
            "       [6.3, 3.4, 5.6, 2.4],\n",
            "       [6.4, 3.1, 5.5, 1.8],\n",
            "       [6. , 3. , 4.8, 1.8],\n",
            "       [6.9, 3.1, 5.4, 2.1],\n",
            "       [6.7, 3.1, 5.6, 2.4],\n",
            "       [6.9, 3.1, 5.1, 2.3],\n",
            "       [5.8, 2.7, 5.1, 1.9],\n",
            "       [6.8, 3.2, 5.9, 2.3],\n",
            "       [6.7, 3.3, 5.7, 2.5],\n",
            "       [6.7, 3. , 5.2, 2.3],\n",
            "       [6.3, 2.5, 5. , 1.9],\n",
            "       [6.5, 3. , 5.2, 2. ],\n",
            "       [6.2, 3.4, 5.4, 2.3],\n",
            "       [5.9, 3. , 5.1, 1.8]]), 'target': array([0, 0, 0, 0, 0, 0, 0, 0, 0, 0, 0, 0, 0, 0, 0, 0, 0, 0, 0, 0, 0, 0,\n",
            "       0, 0, 0, 0, 0, 0, 0, 0, 0, 0, 0, 0, 0, 0, 0, 0, 0, 0, 0, 0, 0, 0,\n",
            "       0, 0, 0, 0, 0, 0, 1, 1, 1, 1, 1, 1, 1, 1, 1, 1, 1, 1, 1, 1, 1, 1,\n",
            "       1, 1, 1, 1, 1, 1, 1, 1, 1, 1, 1, 1, 1, 1, 1, 1, 1, 1, 1, 1, 1, 1,\n",
            "       1, 1, 1, 1, 1, 1, 1, 1, 1, 1, 1, 1, 2, 2, 2, 2, 2, 2, 2, 2, 2, 2,\n",
            "       2, 2, 2, 2, 2, 2, 2, 2, 2, 2, 2, 2, 2, 2, 2, 2, 2, 2, 2, 2, 2, 2,\n",
            "       2, 2, 2, 2, 2, 2, 2, 2, 2, 2, 2, 2, 2, 2, 2, 2, 2, 2]), 'frame': None, 'target_names': array(['setosa', 'versicolor', 'virginica'], dtype='<U10'), 'DESCR': '.. _iris_dataset:\\n\\nIris plants dataset\\n--------------------\\n\\n**Data Set Characteristics:**\\n\\n    :Number of Instances: 150 (50 in each of three classes)\\n    :Number of Attributes: 4 numeric, predictive attributes and the class\\n    :Attribute Information:\\n        - sepal length in cm\\n        - sepal width in cm\\n        - petal length in cm\\n        - petal width in cm\\n        - class:\\n                - Iris-Setosa\\n                - Iris-Versicolour\\n                - Iris-Virginica\\n                \\n    :Summary Statistics:\\n\\n    ============== ==== ==== ======= ===== ====================\\n                    Min  Max   Mean    SD   Class Correlation\\n    ============== ==== ==== ======= ===== ====================\\n    sepal length:   4.3  7.9   5.84   0.83    0.7826\\n    sepal width:    2.0  4.4   3.05   0.43   -0.4194\\n    petal length:   1.0  6.9   3.76   1.76    0.9490  (high!)\\n    petal width:    0.1  2.5   1.20   0.76    0.9565  (high!)\\n    ============== ==== ==== ======= ===== ====================\\n\\n    :Missing Attribute Values: None\\n    :Class Distribution: 33.3% for each of 3 classes.\\n    :Creator: R.A. Fisher\\n    :Donor: Michael Marshall (MARSHALL%PLU@io.arc.nasa.gov)\\n    :Date: July, 1988\\n\\nThe famous Iris database, first used by Sir R.A. Fisher. The dataset is taken\\nfrom Fisher\\'s paper. Note that it\\'s the same as in R, but not as in the UCI\\nMachine Learning Repository, which has two wrong data points.\\n\\nThis is perhaps the best known database to be found in the\\npattern recognition literature.  Fisher\\'s paper is a classic in the field and\\nis referenced frequently to this day.  (See Duda & Hart, for example.)  The\\ndata set contains 3 classes of 50 instances each, where each class refers to a\\ntype of iris plant.  One class is linearly separable from the other 2; the\\nlatter are NOT linearly separable from each other.\\n\\n|details-start|\\n**References**\\n|details-split|\\n\\n- Fisher, R.A. \"The use of multiple measurements in taxonomic problems\"\\n  Annual Eugenics, 7, Part II, 179-188 (1936); also in \"Contributions to\\n  Mathematical Statistics\" (John Wiley, NY, 1950).\\n- Duda, R.O., & Hart, P.E. (1973) Pattern Classification and Scene Analysis.\\n  (Q327.D83) John Wiley & Sons.  ISBN 0-471-22361-1.  See page 218.\\n- Dasarathy, B.V. (1980) \"Nosing Around the Neighborhood: A New System\\n  Structure and Classification Rule for Recognition in Partially Exposed\\n  Environments\".  IEEE Transactions on Pattern Analysis and Machine\\n  Intelligence, Vol. PAMI-2, No. 1, 67-71.\\n- Gates, G.W. (1972) \"The Reduced Nearest Neighbor Rule\".  IEEE Transactions\\n  on Information Theory, May 1972, 431-433.\\n- See also: 1988 MLC Proceedings, 54-64.  Cheeseman et al\"s AUTOCLASS II\\n  conceptual clustering system finds 3 classes in the data.\\n- Many, many more ...\\n\\n|details-end|', 'feature_names': ['sepal length (cm)', 'sepal width (cm)', 'petal length (cm)', 'petal width (cm)'], 'filename': 'iris.csv', 'data_module': 'sklearn.datasets.data'}\n",
            "Accuaracy: 1.0\n"
          ]
        }
      ]
    }
  ]
}